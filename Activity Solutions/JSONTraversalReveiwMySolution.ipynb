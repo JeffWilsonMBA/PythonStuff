{
 "cells": [
  {
   "cell_type": "code",
   "execution_count": 9,
   "metadata": {},
   "outputs": [],
   "source": [
    "# Dependencies\n",
    "import openweathermapy.core as owm\n",
    "import json\n",
    "import requests\n",
    "from configapi import api_key\n",
    "import pandas as pd"
   ]
  },
  {
   "cell_type": "code",
   "execution_count": 13,
   "metadata": {},
   "outputs": [
    {
     "data": {
      "text/plain": [
       "[{'base': 'stations',\n",
       "  'clouds': {'all': 1},\n",
       "  'cod': 200,\n",
       "  'coord': {'lat': 33.45, 'lon': -112.08},\n",
       "  'dt': 1521758100,\n",
       "  'id': 5308655,\n",
       "  'main': {'humidity': 26,\n",
       "   'pressure': 1015,\n",
       "   'temp': 30.46,\n",
       "   'temp_max': 31,\n",
       "   'temp_min': 29},\n",
       "  'name': 'Phoenix',\n",
       "  'sys': {'country': 'US',\n",
       "   'id': 293,\n",
       "   'message': 0.006,\n",
       "   'sunrise': 1521725275,\n",
       "   'sunset': 1521769332,\n",
       "   'type': 1},\n",
       "  'visibility': 16093,\n",
       "  'weather': [{'description': 'clear sky',\n",
       "    'icon': '01d',\n",
       "    'id': 800,\n",
       "    'main': 'Clear'}],\n",
       "  'wind': {'deg': 270, 'speed': 3.1}}]"
      ]
     },
     "execution_count": 13,
     "metadata": {},
     "output_type": "execute_result"
    }
   ],
   "source": [
    "# Create settings parameters\n",
    "# Create a settings object with your API key and preferred units\n",
    "settings = {\"units\": \"metric\", \"appid\": api_key}\n",
    "# To get an example to view\n",
    "city_data = [owm.get_current(\"Phoenix\", **settings, indent = 2)]\n",
    "city_data\n",
    "\n",
    "# url = \"http://api.openweathermap.org/data/2.5/weather?\"\n",
    "# city = \"Phoenix\"\n",
    "# Build query URL\n",
    "# query_url = url + \"appid=\" + api_key + \"&q=\" + city\n",
    "# query_url"
   ]
  },
  {
   "cell_type": "code",
   "execution_count": 7,
   "metadata": {},
   "outputs": [
    {
     "name": "stdout",
     "output_type": "stream",
     "text": [
      "The weather API responded with: {'coord': {'lon': -112.08, 'lat': 33.45}, 'weather': [{'id': 803, 'main': 'Clouds', 'description': 'broken clouds', 'icon': '04d'}], 'base': 'stations', 'main': {'temp': 303.85, 'pressure': 1014, 'humidity': 11, 'temp_min': 303.15, 'temp_max': 304.15}, 'visibility': 16093, 'wind': {'speed': 3.6, 'deg': 270}, 'clouds': {'all': 75}, 'dt': 1521755820, 'sys': {'type': 1, 'id': 291, 'message': 0.004, 'country': 'US', 'sunrise': 1521725276, 'sunset': 1521769332}, 'id': 5308655, 'name': 'Phoenix', 'cod': 200}.\n"
     ]
    }
   ],
   "source": [
    "# Get weather data\n",
    "weather_response = requests.get(query_url)\n",
    "weather_json = weather_response.json()\n",
    "\n",
    "# Get the temperature from the response\n",
    "print(f\"The weather API responded with: {weather_json}.\")"
   ]
  },
  {
   "cell_type": "code",
   "execution_count": null,
   "metadata": {
    "collapsed": true
   },
   "outputs": [],
   "source": [
    "# make the API call using a method from openweathermapy that \n",
    "# returns hourly forecasts for Phoenix, AZ and prints the result\n"
   ]
  },
  {
   "cell_type": "code",
   "execution_count": null,
   "metadata": {
    "collapsed": true
   },
   "outputs": [],
   "source": [
    "# use a method from openweatherpy and list comprehension  \n",
    "# to extract the date in text and the temperature and store in a list\n"
   ]
  },
  {
   "cell_type": "code",
   "execution_count": null,
   "metadata": {
    "collapsed": true
   },
   "outputs": [],
   "source": [
    "# print formatted results\n"
   ]
  },
  {
   "cell_type": "code",
   "execution_count": null,
   "metadata": {
    "collapsed": true
   },
   "outputs": [],
   "source": [
    "# BONUS 1\n",
    "# Use a method from openweathermapy that will extract the desired data\n",
    "# without requiring a loop, and then print formatted results\n"
   ]
  },
  {
   "cell_type": "code",
   "execution_count": null,
   "metadata": {
    "collapsed": true
   },
   "outputs": [],
   "source": [
    "# BONUS 2 : Plot the forecasted temperature over time.  \n"
   ]
  }
 ],
 "metadata": {
  "kernelspec": {
   "display_name": "Python 3",
   "language": "python",
   "name": "python3"
  },
  "language_info": {
   "codemirror_mode": {
    "name": "ipython",
    "version": 3
   },
   "file_extension": ".py",
   "mimetype": "text/x-python",
   "name": "python",
   "nbconvert_exporter": "python",
   "pygments_lexer": "ipython3",
   "version": "3.6.3"
  }
 },
 "nbformat": 4,
 "nbformat_minor": 2
}
